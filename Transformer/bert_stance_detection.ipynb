{
 "cells": [
  {
   "cell_type": "code",
   "execution_count": 13,
   "id": "ec49290e",
   "metadata": {
    "scrolled": true
   },
   "outputs": [],
   "source": [
    "import transformers\n",
    "from transformers import BertModel, BertTokenizer, AdamW, get_linear_schedule_with_warmup\n",
    "import torch\n",
    "from torch import nn\n",
    "from torch.utils.data import Dataset\n",
    "import pandas as pd\n",
    "from torch.utils.data import DataLoader\n",
    "from torch import optim\n",
    "import torch.nn.functional as F\n",
    "from sklearn.model_selection import train_test_split"
   ]
  },
  {
   "cell_type": "markdown",
   "id": "b6294711",
   "metadata": {},
   "source": [
    "## Dataset"
   ]
  },
  {
   "cell_type": "code",
   "execution_count": 14,
   "id": "a2a2de96",
   "metadata": {},
   "outputs": [],
   "source": [
    "PRE_TRAINED_MODEL_NAME = 'bert-base-cased'\n",
    "MAX_LEN = 512\n",
    "BATCH_SIZE = 10\n",
    "RANDOM_SEED = 42"
   ]
  },
  {
   "cell_type": "code",
   "execution_count": 15,
   "id": "f0ad1bca",
   "metadata": {},
   "outputs": [],
   "source": [
    "tokenizer = BertTokenizer.from_pretrained(PRE_TRAINED_MODEL_NAME)"
   ]
  },
  {
   "cell_type": "code",
   "execution_count": 16,
   "id": "aa0fa57b",
   "metadata": {},
   "outputs": [],
   "source": [
    "stances_headlines =  pd.read_csv('train_stances.csv')\n",
    "bodies = pd.read_csv('train_bodies.csv')\n",
    "stances_bodies = stances_headlines.merge(bodies,on='Body ID')"
   ]
  },
  {
   "cell_type": "code",
   "execution_count": 17,
   "id": "3139de65",
   "metadata": {},
   "outputs": [],
   "source": [
    "class StancesDataset(Dataset):\n",
    "    def __init__(self, headlines, bodies, stances, tokenizer, max_len):\n",
    "        self.headlines = headlines\n",
    "        self.bodies = bodies\n",
    "        self.stances = stances\n",
    "        self.tokenizer = tokenizer\n",
    "        self.max_len = max_len\n",
    "        self.categories = {\"unrelated\": 0, \"agree\": 1, \"discuss\": 2, \"disagree\": 3}\n",
    "\n",
    "\n",
    "    def __len__(self):\n",
    "        return len(self.headlines)\n",
    "\n",
    "    def __getitem__(self, idx):\n",
    "        headline = self.headlines[idx]\n",
    "        body = self.bodies[idx]\n",
    "        stance = self.stances[idx]\n",
    "        stance_label = self.categories[stance]\n",
    "        print(stance_label)\n",
    "\n",
    "        inputs = self.tokenizer.encode_plus(\n",
    "            headline,\n",
    "            body,\n",
    "            add_special_tokens=True,\n",
    "            max_length=self.max_len,\n",
    "            pad_to_max_length=True,\n",
    "            return_token_type_ids=True\n",
    "        )\n",
    "        \n",
    "        ids = inputs['input_ids']\n",
    "        mask = inputs['attention_mask']\n",
    "        token_type_ids = inputs[\"token_type_ids\"]\n",
    "        return {\n",
    "            'input_ids': torch.tensor(ids, dtype=torch.long),\n",
    "            'attention_mask': torch.tensor(mask, dtype=torch.long),\n",
    "            'token_type_ids': torch.tensor(token_type_ids, dtype=torch.long),\n",
    "            \"labels\": torch.tensor([stance_label], dtype=torch.long) \n",
    "        }"
   ]
  },
  {
   "cell_type": "markdown",
   "id": "565e3e83",
   "metadata": {},
   "source": [
    "## Model"
   ]
  },
  {
   "cell_type": "code",
   "execution_count": 18,
   "id": "b3eca60b",
   "metadata": {},
   "outputs": [],
   "source": [
    "class StanceDetectionModel(nn.Module):\n",
    "    def __init__(self, n_classes):\n",
    "        super().__init__()\n",
    "        self.bert = BertModel.from_pretrained(PRE_TRAINED_MODEL_NAME)\n",
    "        self.l1 = torch.nn.Linear(self.bert.config.hidden_size, n_classes)\n",
    "\n",
    "    def forward(self, input_ids, attention_mask, token_type_ids):\n",
    "        _,pooled_output = self.bert(input_ids=input_ids, attention_mask=attention_mask, token_type_ids=token_type_ids,\n",
    "                                 return_dict=False)\n",
    "        print('pooled output', pooled_output)\n",
    "        output = self.l1(pooled_output)\n",
    "        return F.softmax(output,dim=1)"
   ]
  },
  {
   "cell_type": "markdown",
   "id": "27a86309",
   "metadata": {},
   "source": [
    "## Training"
   ]
  },
  {
   "cell_type": "code",
   "execution_count": 48,
   "id": "ea61ef95",
   "metadata": {},
   "outputs": [],
   "source": [
    "def train(batch_size, data, model, learning_rate=0.0001, device='cpu'):\n",
    "    loss_fn = nn.CrossEntropyLoss().to(device)\n",
    "    optimizer = optim.Adam(model.parameters(), lr=learning_rate)\n",
    "    model.train().to(device)\n",
    "    num_correct_predictions = 0\n",
    "    num_samples = len(data)\n",
    "    training_loss = []\n",
    "\n",
    "    for i, input_data in enumerate(data):\n",
    "        print('Batch #', i)\n",
    "        input_ids = input_data['input_ids'].to(device)\n",
    "        attention_mask = input_data['attention_mask'].to(device)\n",
    "        token_type_ids = input_data['token_type_ids'].to(device)\n",
    "        labels = input_data['labels'].to(device).squeeze()\n",
    "        output = model(input_ids, attention_mask, token_type_ids)\n",
    "        preds = torch.argmax(output, dim=1)\n",
    "        num_correct_predictions += torch.sum(preds == labels)\n",
    "        loss = loss_fn(output, labels)\n",
    "        loss.backward()\n",
    "        optimizer.step()\n",
    "        optimizer.zero_grad()\n",
    "        training_loss.append(loss.item())\n",
    "    return num_correct_predictions.item()/len(data), np.mean(training_loss)\n"
   ]
  },
  {
   "cell_type": "code",
   "execution_count": 49,
   "id": "e56634d6",
   "metadata": {},
   "outputs": [],
   "source": [
    "def validate(model, data_loader, device='cpu'):\n",
    "    model = model.eval()\n",
    "    loss_fn = nn.CrossEntropyLoss().to(device)\n",
    "    validation_losses = []\n",
    "    correct_predictions = 0\n",
    "\n",
    "    with torch.no_grad():\n",
    "         for i, input_data in enumerate(data):\n",
    "            input_ids = input_data[\"input_ids\"].to(device)\n",
    "            attention_mask = input_data[\"attention_mask\"].to(device)\n",
    "            token_type_ids = input_data['token_type_ids'].to(device)\n",
    "            labels = input_data[\"labels\"].to(device)\n",
    "            output = model(input_ids, attention_mask, token_type_ids)\n",
    "            preds = torch.argmax(output, dim=1)\n",
    "\n",
    "            loss = loss_fn(outputs, targets)\n",
    "\n",
    "            correct_predictions += torch.sum(preds == labels)\n",
    "            validation_losses.append(loss.item())\n",
    "\n",
    "    return correct_predictions.item() / len(data), np.mean(validation_losses)"
   ]
  },
  {
   "cell_type": "code",
   "execution_count": 50,
   "id": "3bfd7744",
   "metadata": {},
   "outputs": [],
   "source": [
    "def create_data_loader(df, tokenizer, max_len, batch_size):\n",
    "    ds = StancesDataset(df['Headline'].to_numpy(),\n",
    "                        df['articleBody'].to_numpy(),\n",
    "                        df['Stance'].to_numpy(),\n",
    "                        tokenizer,\n",
    "                        max_len)\n",
    "\n",
    "\n",
    "    return DataLoader(\n",
    "        ds,\n",
    "        batch_size=batch_size\n",
    "  )\n",
    "\n",
    "df_train, df_test = train_test_split(stances_bodies, test_size=0.1, random_state=RANDOM_SEED)\n",
    "df_val, df_test = train_test_split(df_test, test_size=0.5, random_state=RANDOM_SEED)\n",
    "train_dataloader = create_data_loader(df_train, tokenizer, MAX_LEN, BATCH_SIZE)\n",
    "val_dataloader = create_data_loader(df_val, tokenizer, MAX_LEN, BATCH_SIZE)\n",
    "test_dataloader = create_data_loader(df_test, tokenizer, MAX_LEN, BATCH_SIZE)"
   ]
  },
  {
   "cell_type": "code",
   "execution_count": null,
   "id": "11984577",
   "metadata": {},
   "outputs": [],
   "source": [
    "epochs = 1\n",
    "batch_size=10\n",
    "model = StanceDetectionModel(n_classes=4)\n",
    "for i  in range(epochs):\n",
    "    accuracy, mean_loss = train(batch_size,train_dataloader, model)\n",
    "    print(f'Training accuracy at epoch {i} is {accuracy}')\n",
    "    print(f'Mean training loss at epoch {i} is {mean_loss}')\n",
    "    accuracy, mean_val_loss = validate(model, val_dataloader)\n",
    "    print(f'Validaton accuracy at epoch {i} is {accuracy}')\n",
    "    print(f'Mean validation loss at epoch {i} is {mean_loss}')\n",
    "    "
   ]
  },
  {
   "cell_type": "code",
   "execution_count": null,
   "id": "dedaddc9",
   "metadata": {},
   "outputs": [],
   "source": []
  },
  {
   "cell_type": "code",
   "execution_count": null,
   "id": "07ef2212",
   "metadata": {},
   "outputs": [],
   "source": []
  },
  {
   "cell_type": "code",
   "execution_count": null,
   "id": "bdc6dadb",
   "metadata": {},
   "outputs": [],
   "source": []
  }
 ],
 "metadata": {
  "kernelspec": {
   "display_name": "Python 3 (ipykernel)",
   "language": "python",
   "name": "python3"
  },
  "language_info": {
   "codemirror_mode": {
    "name": "ipython",
    "version": 3
   },
   "file_extension": ".py",
   "mimetype": "text/x-python",
   "name": "python",
   "nbconvert_exporter": "python",
   "pygments_lexer": "ipython3",
   "version": "3.8.12"
  }
 },
 "nbformat": 4,
 "nbformat_minor": 5
}
